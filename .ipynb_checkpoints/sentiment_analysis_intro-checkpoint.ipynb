{
 "cells": [
  {
   "cell_type": "markdown",
   "id": "c95b88b3-f7c1-48cc-ac9e-619ca5f5f4a8",
   "metadata": {},
   "source": [
    "<h1 style=\"color: #492c68;\">NLP: Sentiment Analysis</h1>"
   ]
  },
  {
   "cell_type": "markdown",
   "id": "eca0feb6-93b0-4616-a894-50ecfc8f6371",
   "metadata": {},
   "source": [
    "We are going dive into a basic introduction for <mark>Sentiment Analisis</mark> through <mark>Natural Language Processing</mark>. \n",
    "\n",
    "- As always, we read our dataset. Let's see what we got"
   ]
  },
  {
   "cell_type": "code",
   "execution_count": 1,
   "id": "1312fb19-bb7e-4b3a-9747-7a3af8f48cd5",
   "metadata": {
    "tags": []
   },
   "outputs": [],
   "source": [
    "## Basic Libraries\n",
    "import pandas as pd\n",
    "import numpy as np\n",
    "\n",
    "## EDA Libraries\n",
    "import matplotlib as plt\n",
    "import seaborn as sns\n",
    "import plotly as px\n",
    "\n",
    "## Settings configuration\n",
    "pd.set_option('display.max_columns', None)\n",
    "import warnings\n",
    "warnings.filterwarnings(\"ignore\")"
   ]
  },
  {
   "cell_type": "code",
   "execution_count": 2,
   "id": "d75957d1-c6be-4440-8b78-0cfbfa9ef1bd",
   "metadata": {
    "tags": []
   },
   "outputs": [],
   "source": [
    "df = pd.read_csv(\"reviews.csv\")"
   ]
  },
  {
   "cell_type": "code",
   "execution_count": 3,
   "id": "1870d1e0-17e0-4845-829f-527ffa145486",
   "metadata": {},
   "outputs": [],
   "source": [
    "## Best setting for columns names\n",
    "\n",
    "df.columns = df.columns.str.lower().str.replace(\" \",\"_\").str.replace(\".\",\"_\").str.replace(\":\",\"\")"
   ]
  },
  {
   "cell_type": "code",
   "execution_count": 4,
   "id": "1b98afbf-e4df-4f9c-9f1f-2836f374bb71",
   "metadata": {
    "tags": []
   },
   "outputs": [
    {
     "data": {
      "text/html": [
       "<div>\n",
       "<style scoped>\n",
       "    .dataframe tbody tr th:only-of-type {\n",
       "        vertical-align: middle;\n",
       "    }\n",
       "\n",
       "    .dataframe tbody tr th {\n",
       "        vertical-align: top;\n",
       "    }\n",
       "\n",
       "    .dataframe thead th {\n",
       "        text-align: right;\n",
       "    }\n",
       "</style>\n",
       "<table border=\"1\" class=\"dataframe\">\n",
       "  <thead>\n",
       "    <tr style=\"text-align: right;\">\n",
       "      <th></th>\n",
       "      <th>id</th>\n",
       "      <th>productid</th>\n",
       "      <th>userid</th>\n",
       "      <th>profilename</th>\n",
       "      <th>helpfulnessnumerator</th>\n",
       "      <th>helpfulnessdenominator</th>\n",
       "      <th>score</th>\n",
       "      <th>time</th>\n",
       "      <th>summary</th>\n",
       "      <th>text</th>\n",
       "    </tr>\n",
       "  </thead>\n",
       "  <tbody>\n",
       "    <tr>\n",
       "      <th>0</th>\n",
       "      <td>1</td>\n",
       "      <td>B001E4KFG0</td>\n",
       "      <td>A3SGXH7AUHU8GW</td>\n",
       "      <td>delmartian</td>\n",
       "      <td>1</td>\n",
       "      <td>1</td>\n",
       "      <td>5</td>\n",
       "      <td>1303862400</td>\n",
       "      <td>Good Quality Dog Food</td>\n",
       "      <td>I have bought several of the Vitality canned d...</td>\n",
       "    </tr>\n",
       "    <tr>\n",
       "      <th>1</th>\n",
       "      <td>2</td>\n",
       "      <td>B00813GRG4</td>\n",
       "      <td>A1D87F6ZCVE5NK</td>\n",
       "      <td>dll pa</td>\n",
       "      <td>0</td>\n",
       "      <td>0</td>\n",
       "      <td>1</td>\n",
       "      <td>1346976000</td>\n",
       "      <td>Not as Advertised</td>\n",
       "      <td>Product arrived labeled as Jumbo Salted Peanut...</td>\n",
       "    </tr>\n",
       "    <tr>\n",
       "      <th>2</th>\n",
       "      <td>3</td>\n",
       "      <td>B000LQOCH0</td>\n",
       "      <td>ABXLMWJIXXAIN</td>\n",
       "      <td>Natalia Corres \"Natalia Corres\"</td>\n",
       "      <td>1</td>\n",
       "      <td>1</td>\n",
       "      <td>4</td>\n",
       "      <td>1219017600</td>\n",
       "      <td>\"Delight\" says it all</td>\n",
       "      <td>This is a confection that has been around a fe...</td>\n",
       "    </tr>\n",
       "    <tr>\n",
       "      <th>3</th>\n",
       "      <td>4</td>\n",
       "      <td>B000UA0QIQ</td>\n",
       "      <td>A395BORC6FGVXV</td>\n",
       "      <td>Karl</td>\n",
       "      <td>3</td>\n",
       "      <td>3</td>\n",
       "      <td>2</td>\n",
       "      <td>1307923200</td>\n",
       "      <td>Cough Medicine</td>\n",
       "      <td>If you are looking for the secret ingredient i...</td>\n",
       "    </tr>\n",
       "    <tr>\n",
       "      <th>4</th>\n",
       "      <td>5</td>\n",
       "      <td>B006K2ZZ7K</td>\n",
       "      <td>A1UQRSCLF8GW1T</td>\n",
       "      <td>Michael D. Bigham \"M. Wassir\"</td>\n",
       "      <td>0</td>\n",
       "      <td>0</td>\n",
       "      <td>5</td>\n",
       "      <td>1350777600</td>\n",
       "      <td>Great taffy</td>\n",
       "      <td>Great taffy at a great price.  There was a wid...</td>\n",
       "    </tr>\n",
       "  </tbody>\n",
       "</table>\n",
       "</div>"
      ],
      "text/plain": [
       "   id   productid          userid                      profilename  \\\n",
       "0   1  B001E4KFG0  A3SGXH7AUHU8GW                       delmartian   \n",
       "1   2  B00813GRG4  A1D87F6ZCVE5NK                           dll pa   \n",
       "2   3  B000LQOCH0   ABXLMWJIXXAIN  Natalia Corres \"Natalia Corres\"   \n",
       "3   4  B000UA0QIQ  A395BORC6FGVXV                             Karl   \n",
       "4   5  B006K2ZZ7K  A1UQRSCLF8GW1T    Michael D. Bigham \"M. Wassir\"   \n",
       "\n",
       "   helpfulnessnumerator  helpfulnessdenominator  score        time  \\\n",
       "0                     1                       1      5  1303862400   \n",
       "1                     0                       0      1  1346976000   \n",
       "2                     1                       1      4  1219017600   \n",
       "3                     3                       3      2  1307923200   \n",
       "4                     0                       0      5  1350777600   \n",
       "\n",
       "                 summary                                               text  \n",
       "0  Good Quality Dog Food  I have bought several of the Vitality canned d...  \n",
       "1      Not as Advertised  Product arrived labeled as Jumbo Salted Peanut...  \n",
       "2  \"Delight\" says it all  This is a confection that has been around a fe...  \n",
       "3         Cough Medicine  If you are looking for the secret ingredient i...  \n",
       "4            Great taffy  Great taffy at a great price.  There was a wid...  "
      ]
     },
     "execution_count": 4,
     "metadata": {},
     "output_type": "execute_result"
    }
   ],
   "source": [
    "df.head(5)"
   ]
  },
  {
   "cell_type": "markdown",
   "id": "253b6bb8-0640-4d37-abe9-e7df9ebbe479",
   "metadata": {},
   "source": [
    "From df we have interest about <mark>\"score\"</mark>, <mark>\"summary\"</mark> and <mark>\"text\"</mark>\n",
    "\n",
    "- \"text\": is the most important variable in our project. These texts will be break down into tokens and processed to figure out their sentiment.\n",
    "- \"score\" and \"sumary\" are useful to compare our new results."
   ]
  },
  {
   "cell_type": "code",
   "execution_count": 5,
   "id": "50f301ef-09b5-49cf-873d-91d20b405da6",
   "metadata": {
    "tags": []
   },
   "outputs": [],
   "source": [
    "df = df[[\"text\", \"score\", \"summary\"]]"
   ]
  },
  {
   "cell_type": "code",
   "execution_count": 6,
   "id": "5e943cb1-a17b-4841-8fc7-abe3856a7ba1",
   "metadata": {
    "tags": []
   },
   "outputs": [
    {
     "data": {
      "text/html": [
       "<div>\n",
       "<style scoped>\n",
       "    .dataframe tbody tr th:only-of-type {\n",
       "        vertical-align: middle;\n",
       "    }\n",
       "\n",
       "    .dataframe tbody tr th {\n",
       "        vertical-align: top;\n",
       "    }\n",
       "\n",
       "    .dataframe thead th {\n",
       "        text-align: right;\n",
       "    }\n",
       "</style>\n",
       "<table border=\"1\" class=\"dataframe\">\n",
       "  <thead>\n",
       "    <tr style=\"text-align: right;\">\n",
       "      <th></th>\n",
       "      <th>text</th>\n",
       "      <th>score</th>\n",
       "      <th>summary</th>\n",
       "    </tr>\n",
       "  </thead>\n",
       "  <tbody>\n",
       "    <tr>\n",
       "      <th>0</th>\n",
       "      <td>I have bought several of the Vitality canned d...</td>\n",
       "      <td>5</td>\n",
       "      <td>Good Quality Dog Food</td>\n",
       "    </tr>\n",
       "    <tr>\n",
       "      <th>1</th>\n",
       "      <td>Product arrived labeled as Jumbo Salted Peanut...</td>\n",
       "      <td>1</td>\n",
       "      <td>Not as Advertised</td>\n",
       "    </tr>\n",
       "    <tr>\n",
       "      <th>2</th>\n",
       "      <td>This is a confection that has been around a fe...</td>\n",
       "      <td>4</td>\n",
       "      <td>\"Delight\" says it all</td>\n",
       "    </tr>\n",
       "    <tr>\n",
       "      <th>3</th>\n",
       "      <td>If you are looking for the secret ingredient i...</td>\n",
       "      <td>2</td>\n",
       "      <td>Cough Medicine</td>\n",
       "    </tr>\n",
       "    <tr>\n",
       "      <th>4</th>\n",
       "      <td>Great taffy at a great price.  There was a wid...</td>\n",
       "      <td>5</td>\n",
       "      <td>Great taffy</td>\n",
       "    </tr>\n",
       "    <tr>\n",
       "      <th>...</th>\n",
       "      <td>...</td>\n",
       "      <td>...</td>\n",
       "      <td>...</td>\n",
       "    </tr>\n",
       "    <tr>\n",
       "      <th>568449</th>\n",
       "      <td>Great for sesame chicken..this is a good if no...</td>\n",
       "      <td>5</td>\n",
       "      <td>Will not do without</td>\n",
       "    </tr>\n",
       "    <tr>\n",
       "      <th>568450</th>\n",
       "      <td>I'm disappointed with the flavor. The chocolat...</td>\n",
       "      <td>2</td>\n",
       "      <td>disappointed</td>\n",
       "    </tr>\n",
       "    <tr>\n",
       "      <th>568451</th>\n",
       "      <td>These stars are small, so you can give 10-15 o...</td>\n",
       "      <td>5</td>\n",
       "      <td>Perfect for our maltipoo</td>\n",
       "    </tr>\n",
       "    <tr>\n",
       "      <th>568452</th>\n",
       "      <td>These are the BEST treats for training and rew...</td>\n",
       "      <td>5</td>\n",
       "      <td>Favorite Training and reward treat</td>\n",
       "    </tr>\n",
       "    <tr>\n",
       "      <th>568453</th>\n",
       "      <td>I am very satisfied ,product is as advertised,...</td>\n",
       "      <td>5</td>\n",
       "      <td>Great Honey</td>\n",
       "    </tr>\n",
       "  </tbody>\n",
       "</table>\n",
       "<p>568454 rows × 3 columns</p>\n",
       "</div>"
      ],
      "text/plain": [
       "                                                     text  score  \\\n",
       "0       I have bought several of the Vitality canned d...      5   \n",
       "1       Product arrived labeled as Jumbo Salted Peanut...      1   \n",
       "2       This is a confection that has been around a fe...      4   \n",
       "3       If you are looking for the secret ingredient i...      2   \n",
       "4       Great taffy at a great price.  There was a wid...      5   \n",
       "...                                                   ...    ...   \n",
       "568449  Great for sesame chicken..this is a good if no...      5   \n",
       "568450  I'm disappointed with the flavor. The chocolat...      2   \n",
       "568451  These stars are small, so you can give 10-15 o...      5   \n",
       "568452  These are the BEST treats for training and rew...      5   \n",
       "568453  I am very satisfied ,product is as advertised,...      5   \n",
       "\n",
       "                                   summary  \n",
       "0                    Good Quality Dog Food  \n",
       "1                        Not as Advertised  \n",
       "2                    \"Delight\" says it all  \n",
       "3                           Cough Medicine  \n",
       "4                              Great taffy  \n",
       "...                                    ...  \n",
       "568449                 Will not do without  \n",
       "568450                        disappointed  \n",
       "568451            Perfect for our maltipoo  \n",
       "568452  Favorite Training and reward treat  \n",
       "568453                         Great Honey  \n",
       "\n",
       "[568454 rows x 3 columns]"
      ]
     },
     "execution_count": 6,
     "metadata": {},
     "output_type": "execute_result"
    }
   ],
   "source": [
    "df"
   ]
  },
  {
   "cell_type": "markdown",
   "id": "489d1856-f7db-48f6-8a8b-415f037e7cc8",
   "metadata": {},
   "source": [
    "- Before we go further, let's plot \"score\" to see its distribution and have an idea of the data we are working with"
   ]
  },
  {
   "cell_type": "code",
   "execution_count": 7,
   "id": "4c35ea59-c61d-49c1-bf27-f47396fd546e",
   "metadata": {
    "tags": []
   },
   "outputs": [
    {
     "data": {
      "text/plain": [
       "<Axes: xlabel='score', ylabel='count'>"
      ]
     },
     "execution_count": 7,
     "metadata": {},
     "output_type": "execute_result"
    },
    {
     "data": {
      "image/png": "[encoded data removed]",
      "text/plain": [
       "<Figure size 640x480 with 1 Axes>"
      ]
     },
     "metadata": {},
     "output_type": "display_data"
    }
   ],
   "source": [
    "sns.barplot(data= df[\"score\"].value_counts())"
   ]
  },
  {
   "cell_type": "markdown",
   "id": "66f2d8ac-2bb2-495d-9fde-94507a6086c1",
   "metadata": {},
   "source": [
    "- Lenght its too big. It would be better if we use a fraction of it to make it easier."
   ]
  },
  {
   "cell_type": "code",
   "execution_count": 8,
   "id": "679ba73e-8aba-4153-a61f-618082a230fa",
   "metadata": {
    "tags": []
   },
   "outputs": [],
   "source": [
    "df = df.head(500)"
   ]
  },
  {
   "cell_type": "markdown",
   "id": "2ce6cfe3-8df5-4713-b0dc-83592d33c6b2",
   "metadata": {
    "tags": []
   },
   "source": [
    "<h2 style=\"color: #327a81;\">NLP Preprocessing: NLTK Basics</h2>"
   ]
  },
  {
   "cell_type": "markdown",
   "id": "a6d20420-ee61-40a1-81d3-355c56d76e4b",
   "metadata": {},
   "source": [
    "<mark>NLTK</mark> means <mark>Natural Language Toolkit</mark>. It's a basic tool for <mark>NLP beginners</mark> and <mark>quick model processing</mark>. It's not too fancy but can be used to understand basics.\n",
    "\n",
    "- Let's see how NLTK works"
   ]
  },
  {
   "cell_type": "code",
   "execution_count": 9,
   "id": "bee623e9-6b03-4420-9304-383c48685bc0",
   "metadata": {
    "tags": []
   },
   "outputs": [
    {
     "name": "stderr",
     "output_type": "stream",
     "text": [
      "[nltk_data] Downloading package punkt to\n",
      "[nltk_data]     C:\\Users\\antdo\\AppData\\Roaming\\nltk_data...\n",
      "[nltk_data]   Package punkt is already up-to-date!\n",
      "[nltk_data] Downloading package averaged_perceptron_tagger to\n",
      "[nltk_data]     C:\\Users\\antdo\\AppData\\Roaming\\nltk_data...\n",
      "[nltk_data]   Package averaged_perceptron_tagger is already up-to-\n",
      "[nltk_data]       date!\n"
     ]
    },
    {
     "data": {
      "text/plain": [
       "True"
      ]
     },
     "execution_count": 9,
     "metadata": {},
     "output_type": "execute_result"
    }
   ],
   "source": [
    "## Installing the specific librarie\n",
    "\n",
    "import nltk\n",
    "nltk.download('punkt') #tokenizer package\n",
    "nltk.download('averaged_perceptron_tagger') #For label tagging"
   ]
  },
  {
   "cell_type": "markdown",
   "id": "86ec68b5-5517-4797-b29c-8f46819882b7",
   "metadata": {},
   "source": [
    "- For this demo. We take a random index as an example"
   ]
  },
  {
   "cell_type": "code",
   "execution_count": 10,
   "id": "b3e74adc-00b4-424f-8699-ff4c965ef101",
   "metadata": {
    "tags": []
   },
   "outputs": [
    {
     "name": "stdout",
     "output_type": "stream",
     "text": [
      "This stuff really works for preventing cramping during the middle to latter stages of your rides. Pop 1 into each water bottle and you're set. Flavor is fine and goes down easy.\n"
     ]
    }
   ],
   "source": [
    "example = df[\"text\"][65]\n",
    "print(example)"
   ]
  },
  {
   "cell_type": "markdown",
   "id": "8d26c5db-d2cf-4a2c-98ac-61a269fcae47",
   "metadata": {},
   "source": [
    "- NTLK can tokenize any text. This is crucial for the ML preprocessing.\n",
    "- Tokenizer may seem similar to splitting strings, but it's more complex than that."
   ]
  },
  {
   "cell_type": "code",
   "execution_count": 11,
   "id": "3fddeffb-5aac-4cca-90f3-079123189135",
   "metadata": {
    "tags": []
   },
   "outputs": [
    {
     "name": "stdout",
     "output_type": "stream",
     "text": [
      "['This', 'stuff', 'really', 'works', 'for', 'preventing', 'cramping', 'during', 'the', 'middle', 'to', 'latter', 'stages', 'of', 'your', 'rides', '.', 'Pop', '1', 'into', 'each', 'water', 'bottle', 'and', 'you', \"'re\", 'set', '.', 'Flavor', 'is', 'fine', 'and', 'goes', 'down', 'easy', '.']\n"
     ]
    }
   ],
   "source": [
    "tokens = nltk.word_tokenize(example) # word_tokenize breaks the string into tokens that the machine understands\n",
    "print(tokens)"
   ]
  },
  {
   "cell_type": "code",
   "execution_count": 12,
   "id": "6a168214-d096-4e13-8d08-599782eb014e",
   "metadata": {
    "tags": []
   },
   "outputs": [
    {
     "data": {
      "text/plain": [
       "[('This', 'DT'),\n",
       " ('stuff', 'NN'),\n",
       " ('really', 'RB'),\n",
       " ('works', 'VBZ'),\n",
       " ('for', 'IN'),\n",
       " ('preventing', 'VBG'),\n",
       " ('cramping', 'VBG'),\n",
       " ('during', 'IN'),\n",
       " ('the', 'DT'),\n",
       " ('middle', 'NN'),\n",
       " ('to', 'TO'),\n",
       " ('latter', 'JJ'),\n",
       " ('stages', 'NNS'),\n",
       " ('of', 'IN'),\n",
       " ('your', 'PRP$'),\n",
       " ('rides', 'NNS'),\n",
       " ('.', '.'),\n",
       " ('Pop', 'VB'),\n",
       " ('1', 'CD'),\n",
       " ('into', 'IN'),\n",
       " ('each', 'DT'),\n",
       " ('water', 'NN'),\n",
       " ('bottle', 'NN'),\n",
       " ('and', 'CC'),\n",
       " ('you', 'PRP'),\n",
       " (\"'re\", 'VBP'),\n",
       " ('set', 'VBN'),\n",
       " ('.', '.'),\n",
       " ('Flavor', 'NNP'),\n",
       " ('is', 'VBZ'),\n",
       " ('fine', 'JJ'),\n",
       " ('and', 'CC'),\n",
       " ('goes', 'VBZ'),\n",
       " ('down', 'RB'),\n",
       " ('easy', 'JJ'),\n",
       " ('.', '.')]"
      ]
     },
     "execution_count": 12,
     "metadata": {},
     "output_type": "execute_result"
    }
   ],
   "source": [
    "nltk.pos_tag(tokens) # pos_tag shows the grammar labels of the tokens. Look for pos_tag list in google to know more about abreviations"
   ]
  },
  {
   "cell_type": "markdown",
   "id": "48dccaee-3cfa-4bb0-aaf8-73b11c29f9b3",
   "metadata": {
    "tags": []
   },
   "source": [
    "<h2 style=\"color: #327a81;\">Sentiment Analysis: VADER and RoBERTa</h2>"
   ]
  },
  {
   "cell_type": "markdown",
   "id": "648d70b8-ad54-45a8-b217-6903b9f31702",
   "metadata": {},
   "source": [
    "There are lot of ways to do Sentiment Analaysis. For this introduction we will see two different types.\n",
    "\n",
    "- <mark>VADER</mark> to see the <mark>positive/negative valance</mark> of the sentences (basic)\n",
    "- <mark>RoBERTa</mark> to do a <mark>mood analysis</mark> (complex)"
   ]
  },
  {
   "cell_type": "markdown",
   "id": "d9d83b83-13f0-4df4-ada1-2c07e8c98fb5",
   "metadata": {},
   "source": [
    "<h3 style=\"color: #60b671;\">VADER</h3>"
   ]
  },
  {
   "cell_type": "markdown",
   "id": "c3b770aa-801a-41c3-829c-ae5e91309d04",
   "metadata": {},
   "source": [
    "VADER stands for <mark>Valance Aware Dictionary and Sentiment Reasoner</mark>. This NLTK tool is used to figure out if a piece of text is expressing positive, negative or neutral emotions.\n",
    "\n",
    "- This method uses a <mark>\"bag of words\"</mark> approach. This means that the analysis uses the weight of the words (understands the positive charge without context)\n",
    "- Can be <mark>more accessible for beginners</mark> than RoBERTa. It's recommended for fast prototypes... but has lots of limitations (self-awareness, context)"
   ]
  },
  {
   "cell_type": "code",
   "execution_count": 13,
   "id": "824c12e1-73f8-457d-94d5-73f32ce8c6fd",
   "metadata": {
    "tags": []
   },
   "outputs": [],
   "source": [
    "## Installing NLTK specific function\n",
    "\n",
    "from nltk.sentiment import SentimentIntensityAnalyzer\n",
    "\n",
    "sia = SentimentIntensityAnalyzer()"
   ]
  },
  {
   "cell_type": "markdown",
   "id": "cf541ed6-4bb7-4acc-a08a-8c872fecf6cb",
   "metadata": {},
   "source": [
    "- Once we have defined our sia, we can test it with our previous example"
   ]
  },
  {
   "cell_type": "code",
   "execution_count": 14,
   "id": "d69ecbdd-5a37-47f8-9999-6ac92fdeaa8a",
   "metadata": {
    "tags": []
   },
   "outputs": [
    {
     "name": "stdout",
     "output_type": "stream",
     "text": [
      "This stuff really works for preventing cramping during the middle to latter stages of your rides. Pop 1 into each water bottle and you're set. Flavor is fine and goes down easy.\n"
     ]
    }
   ],
   "source": [
    "print(example)"
   ]
  },
  {
   "cell_type": "code",
   "execution_count": 15,
   "id": "b60b2369-7f68-4de4-a00f-4cc9075addda",
   "metadata": {
    "tags": []
   },
   "outputs": [
    {
     "data": {
      "text/plain": [
       "{'neg': 0.04, 'neu': 0.822, 'pos': 0.138, 'compound': 0.5165}"
      ]
     },
     "execution_count": 15,
     "metadata": {},
     "output_type": "execute_result"
    }
   ],
   "source": [
    "sia.polarity_scores(example) # polarity_scores give us pos/neg/neu values from -1 to 1"
   ]
  },
  {
   "cell_type": "markdown",
   "id": "23b56ca8-741d-4a9b-aa15-0ca2bde6d608",
   "metadata": {},
   "source": [
    "- Scores in the example are not bad. Tends to be neutral/positive, ditching the negative value\n",
    "- So this matches with the real score and its summary?"
   ]
  },
  {
   "cell_type": "code",
   "execution_count": 16,
   "id": "45a76227-8d77-4a29-bffc-f89ad0cee40d",
   "metadata": {
    "tags": []
   },
   "outputs": [
    {
     "data": {
      "text/plain": [
       "text       This stuff really works for preventing crampin...\n",
       "score                                                      5\n",
       "summary                          Great for preventing cramps\n",
       "Name: 65, dtype: object"
      ]
     },
     "execution_count": 16,
     "metadata": {},
     "output_type": "execute_result"
    }
   ],
   "source": [
    "df.loc[65] # Check the example's polarity with real ratings, to see if it fits"
   ]
  },
  {
   "cell_type": "markdown",
   "id": "08601cf9-606d-49f1-96f1-d96386140345",
   "metadata": {},
   "source": [
    "Now that we know how polarity scores works, let's apply this function to all texts "
   ]
  },
  {
   "cell_type": "code",
   "execution_count": 17,
   "id": "4a9c7186-1edc-45d6-9e82-89c388adb988",
   "metadata": {
    "tags": []
   },
   "outputs": [],
   "source": [
    "# Polarity Scores through Iterrows on the \"text\" column\n",
    "\n",
    "pol_scores = {}\n",
    "\n",
    "for i, row in df.iterrows():\n",
    "    text = row[\"text\"]\n",
    "    scores = sia.polarity_scores(text)\n",
    "    pol_scores[i] = scores"
   ]
  },
  {
   "cell_type": "markdown",
   "id": "8de47377-4bbd-4504-afde-35a3829009ce",
   "metadata": {},
   "source": [
    "- We can compare the polarity scores with \"score\" and \"summary\" to check if they make sense."
   ]
  },
  {
   "cell_type": "code",
   "execution_count": 18,
   "id": "385bde29-d673-4f04-990b-09f492dd1289",
   "metadata": {
    "tags": []
   },
   "outputs": [
    {
     "data": {
      "text/html": [
       "<div>\n",
       "<style scoped>\n",
       "    .dataframe tbody tr th:only-of-type {\n",
       "        vertical-align: middle;\n",
       "    }\n",
       "\n",
       "    .dataframe tbody tr th {\n",
       "        vertical-align: top;\n",
       "    }\n",
       "\n",
       "    .dataframe thead th {\n",
       "        text-align: right;\n",
       "    }\n",
       "</style>\n",
       "<table border=\"1\" class=\"dataframe\">\n",
       "  <thead>\n",
       "    <tr style=\"text-align: right;\">\n",
       "      <th></th>\n",
       "      <th>neg</th>\n",
       "      <th>neu</th>\n",
       "      <th>pos</th>\n",
       "      <th>compound</th>\n",
       "    </tr>\n",
       "  </thead>\n",
       "  <tbody>\n",
       "    <tr>\n",
       "      <th>0</th>\n",
       "      <td>0.000</td>\n",
       "      <td>0.695</td>\n",
       "      <td>0.305</td>\n",
       "      <td>0.9441</td>\n",
       "    </tr>\n",
       "    <tr>\n",
       "      <th>1</th>\n",
       "      <td>0.138</td>\n",
       "      <td>0.862</td>\n",
       "      <td>0.000</td>\n",
       "      <td>-0.5664</td>\n",
       "    </tr>\n",
       "    <tr>\n",
       "      <th>2</th>\n",
       "      <td>0.091</td>\n",
       "      <td>0.754</td>\n",
       "      <td>0.155</td>\n",
       "      <td>0.8265</td>\n",
       "    </tr>\n",
       "    <tr>\n",
       "      <th>3</th>\n",
       "      <td>0.000</td>\n",
       "      <td>1.000</td>\n",
       "      <td>0.000</td>\n",
       "      <td>0.0000</td>\n",
       "    </tr>\n",
       "    <tr>\n",
       "      <th>4</th>\n",
       "      <td>0.000</td>\n",
       "      <td>0.552</td>\n",
       "      <td>0.448</td>\n",
       "      <td>0.9468</td>\n",
       "    </tr>\n",
       "    <tr>\n",
       "      <th>...</th>\n",
       "      <td>...</td>\n",
       "      <td>...</td>\n",
       "      <td>...</td>\n",
       "      <td>...</td>\n",
       "    </tr>\n",
       "    <tr>\n",
       "      <th>495</th>\n",
       "      <td>0.000</td>\n",
       "      <td>0.554</td>\n",
       "      <td>0.446</td>\n",
       "      <td>0.9725</td>\n",
       "    </tr>\n",
       "    <tr>\n",
       "      <th>496</th>\n",
       "      <td>0.059</td>\n",
       "      <td>0.799</td>\n",
       "      <td>0.142</td>\n",
       "      <td>0.7833</td>\n",
       "    </tr>\n",
       "    <tr>\n",
       "      <th>497</th>\n",
       "      <td>0.025</td>\n",
       "      <td>0.762</td>\n",
       "      <td>0.212</td>\n",
       "      <td>0.9848</td>\n",
       "    </tr>\n",
       "    <tr>\n",
       "      <th>498</th>\n",
       "      <td>0.041</td>\n",
       "      <td>0.904</td>\n",
       "      <td>0.055</td>\n",
       "      <td>0.1280</td>\n",
       "    </tr>\n",
       "    <tr>\n",
       "      <th>499</th>\n",
       "      <td>0.000</td>\n",
       "      <td>0.678</td>\n",
       "      <td>0.322</td>\n",
       "      <td>0.9811</td>\n",
       "    </tr>\n",
       "  </tbody>\n",
       "</table>\n",
       "<p>500 rows × 4 columns</p>\n",
       "</div>"
      ],
      "text/plain": [
       "       neg    neu    pos  compound\n",
       "0    0.000  0.695  0.305    0.9441\n",
       "1    0.138  0.862  0.000   -0.5664\n",
       "2    0.091  0.754  0.155    0.8265\n",
       "3    0.000  1.000  0.000    0.0000\n",
       "4    0.000  0.552  0.448    0.9468\n",
       "..     ...    ...    ...       ...\n",
       "495  0.000  0.554  0.446    0.9725\n",
       "496  0.059  0.799  0.142    0.7833\n",
       "497  0.025  0.762  0.212    0.9848\n",
       "498  0.041  0.904  0.055    0.1280\n",
       "499  0.000  0.678  0.322    0.9811\n",
       "\n",
       "[500 rows x 4 columns]"
      ]
     },
     "execution_count": 18,
     "metadata": {},
     "output_type": "execute_result"
    }
   ],
   "source": [
    "pd.DataFrame(pol_scores).T"
   ]
  },
  {
   "cell_type": "code",
   "execution_count": 19,
   "id": "5f2bc718-a2ad-43bd-a688-1f5805011d7d",
   "metadata": {
    "tags": []
   },
   "outputs": [],
   "source": [
    "# Let's unify both dataframes (original + polarity scores) to see if our sentiments match\n",
    "\n",
    "vaders = pd.DataFrame(pol_scores).T\n",
    "\n",
    "vaders = pd.concat([df, vaders], axis=1)  "
   ]
  },
  {
   "cell_type": "code",
   "execution_count": 20,
   "id": "dc6776ef-249a-43c0-8ee2-c86b55ad16e3",
   "metadata": {
    "tags": []
   },
   "outputs": [
    {
     "data": {
      "text/html": [
       "<div>\n",
       "<style scoped>\n",
       "    .dataframe tbody tr th:only-of-type {\n",
       "        vertical-align: middle;\n",
       "    }\n",
       "\n",
       "    .dataframe tbody tr th {\n",
       "        vertical-align: top;\n",
       "    }\n",
       "\n",
       "    .dataframe thead th {\n",
       "        text-align: right;\n",
       "    }\n",
       "</style>\n",
       "<table border=\"1\" class=\"dataframe\">\n",
       "  <thead>\n",
       "    <tr style=\"text-align: right;\">\n",
       "      <th></th>\n",
       "      <th>text</th>\n",
       "      <th>score</th>\n",
       "      <th>summary</th>\n",
       "      <th>neg</th>\n",
       "      <th>neu</th>\n",
       "      <th>pos</th>\n",
       "      <th>compound</th>\n",
       "    </tr>\n",
       "  </thead>\n",
       "  <tbody>\n",
       "    <tr>\n",
       "      <th>0</th>\n",
       "      <td>I have bought several of the Vitality canned d...</td>\n",
       "      <td>5</td>\n",
       "      <td>Good Quality Dog Food</td>\n",
       "      <td>0.000</td>\n",
       "      <td>0.695</td>\n",
       "      <td>0.305</td>\n",
       "      <td>0.9441</td>\n",
       "    </tr>\n",
       "    <tr>\n",
       "      <th>1</th>\n",
       "      <td>Product arrived labeled as Jumbo Salted Peanut...</td>\n",
       "      <td>1</td>\n",
       "      <td>Not as Advertised</td>\n",
       "      <td>0.138</td>\n",
       "      <td>0.862</td>\n",
       "      <td>0.000</td>\n",
       "      <td>-0.5664</td>\n",
       "    </tr>\n",
       "    <tr>\n",
       "      <th>2</th>\n",
       "      <td>This is a confection that has been around a fe...</td>\n",
       "      <td>4</td>\n",
       "      <td>\"Delight\" says it all</td>\n",
       "      <td>0.091</td>\n",
       "      <td>0.754</td>\n",
       "      <td>0.155</td>\n",
       "      <td>0.8265</td>\n",
       "    </tr>\n",
       "    <tr>\n",
       "      <th>3</th>\n",
       "      <td>If you are looking for the secret ingredient i...</td>\n",
       "      <td>2</td>\n",
       "      <td>Cough Medicine</td>\n",
       "      <td>0.000</td>\n",
       "      <td>1.000</td>\n",
       "      <td>0.000</td>\n",
       "      <td>0.0000</td>\n",
       "    </tr>\n",
       "    <tr>\n",
       "      <th>4</th>\n",
       "      <td>Great taffy at a great price.  There was a wid...</td>\n",
       "      <td>5</td>\n",
       "      <td>Great taffy</td>\n",
       "      <td>0.000</td>\n",
       "      <td>0.552</td>\n",
       "      <td>0.448</td>\n",
       "      <td>0.9468</td>\n",
       "    </tr>\n",
       "    <tr>\n",
       "      <th>...</th>\n",
       "      <td>...</td>\n",
       "      <td>...</td>\n",
       "      <td>...</td>\n",
       "      <td>...</td>\n",
       "      <td>...</td>\n",
       "      <td>...</td>\n",
       "      <td>...</td>\n",
       "    </tr>\n",
       "    <tr>\n",
       "      <th>495</th>\n",
       "      <td>i rarely eat chips but i saw these and tried t...</td>\n",
       "      <td>5</td>\n",
       "      <td>amazing chips</td>\n",
       "      <td>0.000</td>\n",
       "      <td>0.554</td>\n",
       "      <td>0.446</td>\n",
       "      <td>0.9725</td>\n",
       "    </tr>\n",
       "    <tr>\n",
       "      <th>496</th>\n",
       "      <td>This is easily the best potato chip that I hav...</td>\n",
       "      <td>5</td>\n",
       "      <td>Best Chip Ever</td>\n",
       "      <td>0.059</td>\n",
       "      <td>0.799</td>\n",
       "      <td>0.142</td>\n",
       "      <td>0.7833</td>\n",
       "    </tr>\n",
       "    <tr>\n",
       "      <th>497</th>\n",
       "      <td>Kettle Chips Spicy Thai potato chips have the ...</td>\n",
       "      <td>4</td>\n",
       "      <td>Tangy, spicy, and sweet- oh my!</td>\n",
       "      <td>0.025</td>\n",
       "      <td>0.762</td>\n",
       "      <td>0.212</td>\n",
       "      <td>0.9848</td>\n",
       "    </tr>\n",
       "    <tr>\n",
       "      <th>498</th>\n",
       "      <td>Okay, I should not eat potato chips, nor shoul...</td>\n",
       "      <td>4</td>\n",
       "      <td>An indulgence with a bite</td>\n",
       "      <td>0.041</td>\n",
       "      <td>0.904</td>\n",
       "      <td>0.055</td>\n",
       "      <td>0.1280</td>\n",
       "    </tr>\n",
       "    <tr>\n",
       "      <th>499</th>\n",
       "      <td>I don't write very many reviews but I have to ...</td>\n",
       "      <td>5</td>\n",
       "      <td>The best I've had</td>\n",
       "      <td>0.000</td>\n",
       "      <td>0.678</td>\n",
       "      <td>0.322</td>\n",
       "      <td>0.9811</td>\n",
       "    </tr>\n",
       "  </tbody>\n",
       "</table>\n",
       "<p>500 rows × 7 columns</p>\n",
       "</div>"
      ],
      "text/plain": [
       "                                                  text  score  \\\n",
       "0    I have bought several of the Vitality canned d...      5   \n",
       "1    Product arrived labeled as Jumbo Salted Peanut...      1   \n",
       "2    This is a confection that has been around a fe...      4   \n",
       "3    If you are looking for the secret ingredient i...      2   \n",
       "4    Great taffy at a great price.  There was a wid...      5   \n",
       "..                                                 ...    ...   \n",
       "495  i rarely eat chips but i saw these and tried t...      5   \n",
       "496  This is easily the best potato chip that I hav...      5   \n",
       "497  Kettle Chips Spicy Thai potato chips have the ...      4   \n",
       "498  Okay, I should not eat potato chips, nor shoul...      4   \n",
       "499  I don't write very many reviews but I have to ...      5   \n",
       "\n",
       "                             summary    neg    neu    pos  compound  \n",
       "0              Good Quality Dog Food  0.000  0.695  0.305    0.9441  \n",
       "1                  Not as Advertised  0.138  0.862  0.000   -0.5664  \n",
       "2              \"Delight\" says it all  0.091  0.754  0.155    0.8265  \n",
       "3                     Cough Medicine  0.000  1.000  0.000    0.0000  \n",
       "4                        Great taffy  0.000  0.552  0.448    0.9468  \n",
       "..                               ...    ...    ...    ...       ...  \n",
       "495                    amazing chips  0.000  0.554  0.446    0.9725  \n",
       "496                   Best Chip Ever  0.059  0.799  0.142    0.7833  \n",
       "497  Tangy, spicy, and sweet- oh my!  0.025  0.762  0.212    0.9848  \n",
       "498        An indulgence with a bite  0.041  0.904  0.055    0.1280  \n",
       "499                The best I've had  0.000  0.678  0.322    0.9811  \n",
       "\n",
       "[500 rows x 7 columns]"
      ]
     },
     "execution_count": 20,
     "metadata": {},
     "output_type": "execute_result"
    }
   ],
   "source": [
    "vaders"
   ]
  },
  {
   "cell_type": "markdown",
   "id": "d401a4e7-ded2-4391-b4cf-214436c19a48",
   "metadata": {
    "tags": []
   },
   "source": [
    "- We can compare ratings with polarity scores through a quick plot.\n",
    "- We can use \"compound\" to see this."
   ]
  },
  {
   "cell_type": "code",
   "execution_count": 21,
   "id": "8dcce5fc-46b7-4067-966a-da20a6447af9",
   "metadata": {
    "tags": []
   },
   "outputs": [
    {
     "data": {
      "text/plain": [
       "<Axes: xlabel='score', ylabel='compound'>"
      ]
     },
     "execution_count": 21,
     "metadata": {},
     "output_type": "execute_result"
    },
    {
     "data": {
      "image/png": "[encoded data removed]",
      "text/plain": [
       "<Figure size 640x480 with 1 Axes>"
      ]
     },
     "metadata": {},
     "output_type": "display_data"
    }
   ],
   "source": [
    "sns.barplot(data=vaders, x=\"score\", y=\"compound\")"
   ]
  },
  {
   "cell_type": "markdown",
   "id": "2dc7deda-3e50-4029-89ac-7bb3225d1ad2",
   "metadata": {},
   "source": [
    "<h3 style=\"color: #60b671;\">RoBERTa</h3>"
   ]
  },
  {
   "cell_type": "markdown",
   "id": "e0f9afc2-bf89-46fb-9e8c-57726828337e",
   "metadata": {},
   "source": [
    "RoBERTa stands for <mark>Robustly Optimized BERT Approach</mark>. Is a variant of the BERT (Bidirectional Encoder Representations from Transformers) model. \n",
    "\n",
    "- Transformers is a step fordward in the NLP field. This deep learning model focus on <mark>attention mechanism</mark>, which allows it to recognise different parts of an input sequence.\n",
    "- The attention mechanism is key to a text's <mark>self-awareness</mark>. Complex syntactic structures or different intentions, like sarcasm, can be processed by Transformers."
   ]
  },
  {
   "cell_type": "code",
   "execution_count": 22,
   "id": "46730c13-87ca-4431-bab6-65bce21147a6",
   "metadata": {
    "tags": []
   },
   "outputs": [],
   "source": [
    "## Installing Transformers specific functions\n",
    "\n",
    "from transformers import AutoTokenizer\n",
    "from transformers import AutoModelForSequenceClassification"
   ]
  },
  {
   "cell_type": "markdown",
   "id": "e2066042-2839-4c77-a359-38a3b9ee4055",
   "metadata": {},
   "source": [
    "- We will use a RoBERTa petrained model named Emotion English DistilRoBERTa-base. It's a refined embedding that can <mark>break text into emotion moods</mark>."
   ]
  },
  {
   "cell_type": "code",
   "execution_count": 23,
   "id": "28f3a771-f49b-45a7-a05f-f2b40f16c5ef",
   "metadata": {
    "tags": []
   },
   "outputs": [],
   "source": [
    "# Load the pretrained model\n",
    "\n",
    "MODEL = f\"j-hartmann/emotion-english-distilroberta-base\""
   ]
  },
  {
   "cell_type": "code",
   "execution_count": 24,
   "id": "6301ab2f-013d-4331-b073-219be57b0e84",
   "metadata": {
    "tags": []
   },
   "outputs": [
    {
     "name": "stdout",
     "output_type": "stream",
     "text": [
      "WARNING:tensorflow:From C:\\ProgramData\\anaconda3\\Lib\\site-packages\\tf_keras\\src\\losses.py:2976: The name tf.losses.sparse_softmax_cross_entropy is deprecated. Please use tf.compat.v1.losses.sparse_softmax_cross_entropy instead.\n",
      "\n"
     ]
    }
   ],
   "source": [
    "# Let's see through a pipeline example how it works\n",
    "\n",
    "from transformers import pipeline\n",
    "\n",
    "classifier = pipeline(\"text-classification\", MODEL, return_all_scores=True)"
   ]
  },
  {
   "cell_type": "code",
   "execution_count": null,
   "id": "1175c9a5-a66c-48a8-b7d0-74b40a72221c",
   "metadata": {},
   "outputs": [],
   "source": []
  },
  {
   "cell_type": "code",
   "execution_count": 25,
   "id": "bf7bf865-5a2f-4b7c-b759-eca42c818aaf",
   "metadata": {
    "tags": []
   },
   "outputs": [
    {
     "data": {
      "text/plain": [
       "[[{'label': 'anger', 'score': 0.7569648027420044},\n",
       "  {'label': 'disgust', 'score': 0.016741497442126274},\n",
       "  {'label': 'fear', 'score': 0.00653530890122056},\n",
       "  {'label': 'joy', 'score': 0.0016893517458811402},\n",
       "  {'label': 'neutral', 'score': 0.1702916920185089},\n",
       "  {'label': 'sadness', 'score': 0.04207407683134079},\n",
       "  {'label': 'surprise', 'score': 0.005703255999833345}]]"
      ]
     },
     "execution_count": 25,
     "metadata": {},
     "output_type": "execute_result"
    }
   ],
   "source": [
    "# Try any example message\n",
    "\n",
    "classifier(\"Find your patience before I lose mine\")"
   ]
  },
  {
   "cell_type": "markdown",
   "id": "525df7bc-c8e5-471b-a4e1-696bfa9c15fd",
   "metadata": {
    "tags": []
   },
   "source": [
    "- After seeing how transformers works, let's apply the model in our texts"
   ]
  },
  {
   "cell_type": "code",
   "execution_count": 26,
   "id": "4b2c1c37-bd6b-491f-9816-5fdfd69ad5ca",
   "metadata": {
    "tags": []
   },
   "outputs": [],
   "source": [
    "# Save functions that will help us\n",
    "\n",
    "tokenizer = AutoTokenizer.from_pretrained(MODEL)\n",
    "model = AutoModelForSequenceClassification.from_pretrained(MODEL)"
   ]
  },
  {
   "cell_type": "code",
   "execution_count": 27,
   "id": "d007f5c2-fafd-42f8-835e-33c938a1b811",
   "metadata": {
    "tags": []
   },
   "outputs": [],
   "source": [
    "# Define the function for obtaining the scores\n",
    "\n",
    "def mooder(text):\n",
    "    max_lenght = 512\n",
    "    encoded_text = tokenizer(text, return_tensors=\"pt\", max_length=max_lenght, truncation=True, padding=\"longest\")\n",
    "    output = model(**encoded_text)\n",
    "    scores = output[0][0].detach().numpy()\n",
    "    moods = {\n",
    "    \"anger\": scores[0],\n",
    "    \"disgust\" : scores[1],\n",
    "    \"fear\": scores[2],\n",
    "    \"joy\": scores[3],\n",
    "    \"neutral\": scores[4], \n",
    "    \"sadness\": scores[5],\n",
    "    \"surprise\": scores[6]\n",
    "    }\n",
    "    \n",
    "    return moods"
   ]
  },
  {
   "cell_type": "code",
   "execution_count": 28,
   "id": "c4fe5326-d7c6-443b-a67d-6389f0744f40",
   "metadata": {
    "tags": []
   },
   "outputs": [],
   "source": [
    "roberta =  df[\"text\"].apply(mooder) # We apply the function defined before to have all results"
   ]
  },
  {
   "cell_type": "code",
   "execution_count": 29,
   "id": "40082692-13cd-4faf-9dda-521fa5ae2de8",
   "metadata": {
    "tags": []
   },
   "outputs": [],
   "source": [
    "roberta = pd.DataFrame(roberta)"
   ]
  },
  {
   "cell_type": "code",
   "execution_count": 30,
   "id": "58940469-570c-44a3-8c4c-1d69391af9be",
   "metadata": {
    "tags": []
   },
   "outputs": [],
   "source": [
    "roberta_scores = pd.json_normalize(roberta[\"text\"]) # Normalize the df to put all elements in dictionary as columns and values"
   ]
  },
  {
   "cell_type": "code",
   "execution_count": 31,
   "id": "b0e0f7ce-2eeb-4368-8666-00f7b023ba1c",
   "metadata": {
    "tags": []
   },
   "outputs": [],
   "source": [
    "moods = pd.concat([df, roberta_scores], axis=1)"
   ]
  },
  {
   "cell_type": "markdown",
   "id": "e40672e6-12d0-49ad-a40e-e31dccb54fff",
   "metadata": {},
   "source": [
    "- Let's take a sneak peak to results"
   ]
  },
  {
   "cell_type": "code",
   "execution_count": 32,
   "id": "d2b75f91-e5be-45f8-996f-65e8f7aed69d",
   "metadata": {
    "tags": []
   },
   "outputs": [
    {
     "data": {
      "text/html": [
       "<div>\n",
       "<style scoped>\n",
       "    .dataframe tbody tr th:only-of-type {\n",
       "        vertical-align: middle;\n",
       "    }\n",
       "\n",
       "    .dataframe tbody tr th {\n",
       "        vertical-align: top;\n",
       "    }\n",
       "\n",
       "    .dataframe thead th {\n",
       "        text-align: right;\n",
       "    }\n",
       "</style>\n",
       "<table border=\"1\" class=\"dataframe\">\n",
       "  <thead>\n",
       "    <tr style=\"text-align: right;\">\n",
       "      <th></th>\n",
       "      <th>text</th>\n",
       "      <th>score</th>\n",
       "      <th>summary</th>\n",
       "      <th>anger</th>\n",
       "      <th>disgust</th>\n",
       "      <th>fear</th>\n",
       "      <th>joy</th>\n",
       "      <th>neutral</th>\n",
       "      <th>sadness</th>\n",
       "      <th>surprise</th>\n",
       "    </tr>\n",
       "  </thead>\n",
       "  <tbody>\n",
       "    <tr>\n",
       "      <th>202</th>\n",
       "      <td>Received as shown. My mother in law likes thes...</td>\n",
       "      <td>5</td>\n",
       "      <td>Altoids</td>\n",
       "      <td>0.804460</td>\n",
       "      <td>-0.965606</td>\n",
       "      <td>-2.749670</td>\n",
       "      <td>-0.998674</td>\n",
       "      <td>1.262046</td>\n",
       "      <td>2.301511</td>\n",
       "      <td>0.847990</td>\n",
       "    </tr>\n",
       "    <tr>\n",
       "      <th>132</th>\n",
       "      <td>I really loved the spicy flavor these had.  I ...</td>\n",
       "      <td>5</td>\n",
       "      <td>Great spicy flavor</td>\n",
       "      <td>-0.903199</td>\n",
       "      <td>-0.964209</td>\n",
       "      <td>-2.798758</td>\n",
       "      <td>4.043006</td>\n",
       "      <td>1.469397</td>\n",
       "      <td>0.847549</td>\n",
       "      <td>-0.220699</td>\n",
       "    </tr>\n",
       "    <tr>\n",
       "      <th>130</th>\n",
       "      <td>Always being a fan of ramen as a quick and eas...</td>\n",
       "      <td>5</td>\n",
       "      <td>Amazing to the last bite.</td>\n",
       "      <td>-1.272516</td>\n",
       "      <td>-2.200353</td>\n",
       "      <td>-1.923894</td>\n",
       "      <td>2.913710</td>\n",
       "      <td>2.487112</td>\n",
       "      <td>-1.850708</td>\n",
       "      <td>2.980849</td>\n",
       "    </tr>\n",
       "    <tr>\n",
       "      <th>241</th>\n",
       "      <td>I've been enjoying this tea for years.  This t...</td>\n",
       "      <td>5</td>\n",
       "      <td>Good anytime hot tea</td>\n",
       "      <td>-1.374579</td>\n",
       "      <td>-2.617187</td>\n",
       "      <td>-2.423696</td>\n",
       "      <td>4.071700</td>\n",
       "      <td>1.499963</td>\n",
       "      <td>0.604298</td>\n",
       "      <td>1.752477</td>\n",
       "    </tr>\n",
       "    <tr>\n",
       "      <th>399</th>\n",
       "      <td>We are glad we found this mix as we make panca...</td>\n",
       "      <td>4</td>\n",
       "      <td>Good for Egg Allergy</td>\n",
       "      <td>-0.675957</td>\n",
       "      <td>-0.863864</td>\n",
       "      <td>-2.491296</td>\n",
       "      <td>5.119970</td>\n",
       "      <td>1.487232</td>\n",
       "      <td>-1.061781</td>\n",
       "      <td>0.022650</td>\n",
       "    </tr>\n",
       "    <tr>\n",
       "      <th>108</th>\n",
       "      <td>I love asparagus.  Up until very recently, I h...</td>\n",
       "      <td>5</td>\n",
       "      <td>Asparagus Bliss</td>\n",
       "      <td>-1.391243</td>\n",
       "      <td>-2.295859</td>\n",
       "      <td>-1.295197</td>\n",
       "      <td>3.389791</td>\n",
       "      <td>0.333368</td>\n",
       "      <td>-0.715371</td>\n",
       "      <td>3.512070</td>\n",
       "    </tr>\n",
       "    <tr>\n",
       "      <th>99</th>\n",
       "      <td>I fed this to my Golden Retriever and he hated...</td>\n",
       "      <td>1</td>\n",
       "      <td>Bad</td>\n",
       "      <td>0.109067</td>\n",
       "      <td>3.615082</td>\n",
       "      <td>0.045176</td>\n",
       "      <td>-2.452966</td>\n",
       "      <td>0.331610</td>\n",
       "      <td>0.092329</td>\n",
       "      <td>-1.760664</td>\n",
       "    </tr>\n",
       "    <tr>\n",
       "      <th>142</th>\n",
       "      <td>I love these.........very tasty!!!!!!!!!!!  In...</td>\n",
       "      <td>5</td>\n",
       "      <td>I love these!!!!!!!!</td>\n",
       "      <td>-0.259928</td>\n",
       "      <td>-1.979765</td>\n",
       "      <td>-1.862198</td>\n",
       "      <td>2.950884</td>\n",
       "      <td>1.485751</td>\n",
       "      <td>-0.019506</td>\n",
       "      <td>1.566873</td>\n",
       "    </tr>\n",
       "    <tr>\n",
       "      <th>55</th>\n",
       "      <td>We roast these in a large cast iron pan on the...</td>\n",
       "      <td>5</td>\n",
       "      <td>Our guests love it!</td>\n",
       "      <td>-1.126658</td>\n",
       "      <td>0.485363</td>\n",
       "      <td>-2.306551</td>\n",
       "      <td>4.076078</td>\n",
       "      <td>2.418606</td>\n",
       "      <td>-1.230789</td>\n",
       "      <td>-1.112152</td>\n",
       "    </tr>\n",
       "    <tr>\n",
       "      <th>207</th>\n",
       "      <td>Hard to find the wintergreen smalls [sugar fre...</td>\n",
       "      <td>5</td>\n",
       "      <td>Wintergreen Me</td>\n",
       "      <td>0.688631</td>\n",
       "      <td>0.122353</td>\n",
       "      <td>-1.750953</td>\n",
       "      <td>2.512245</td>\n",
       "      <td>2.026073</td>\n",
       "      <td>-1.859028</td>\n",
       "      <td>-0.385787</td>\n",
       "    </tr>\n",
       "  </tbody>\n",
       "</table>\n",
       "</div>"
      ],
      "text/plain": [
       "                                                  text  score  \\\n",
       "202  Received as shown. My mother in law likes thes...      5   \n",
       "132  I really loved the spicy flavor these had.  I ...      5   \n",
       "130  Always being a fan of ramen as a quick and eas...      5   \n",
       "241  I've been enjoying this tea for years.  This t...      5   \n",
       "399  We are glad we found this mix as we make panca...      4   \n",
       "108  I love asparagus.  Up until very recently, I h...      5   \n",
       "99   I fed this to my Golden Retriever and he hated...      1   \n",
       "142  I love these.........very tasty!!!!!!!!!!!  In...      5   \n",
       "55   We roast these in a large cast iron pan on the...      5   \n",
       "207  Hard to find the wintergreen smalls [sugar fre...      5   \n",
       "\n",
       "                       summary     anger   disgust      fear       joy  \\\n",
       "202                    Altoids  0.804460 -0.965606 -2.749670 -0.998674   \n",
       "132         Great spicy flavor -0.903199 -0.964209 -2.798758  4.043006   \n",
       "130  Amazing to the last bite. -1.272516 -2.200353 -1.923894  2.913710   \n",
       "241       Good anytime hot tea -1.374579 -2.617187 -2.423696  4.071700   \n",
       "399       Good for Egg Allergy -0.675957 -0.863864 -2.491296  5.119970   \n",
       "108            Asparagus Bliss -1.391243 -2.295859 -1.295197  3.389791   \n",
       "99                         Bad  0.109067  3.615082  0.045176 -2.452966   \n",
       "142       I love these!!!!!!!! -0.259928 -1.979765 -1.862198  2.950884   \n",
       "55         Our guests love it! -1.126658  0.485363 -2.306551  4.076078   \n",
       "207             Wintergreen Me  0.688631  0.122353 -1.750953  2.512245   \n",
       "\n",
       "      neutral   sadness  surprise  \n",
       "202  1.262046  2.301511  0.847990  \n",
       "132  1.469397  0.847549 -0.220699  \n",
       "130  2.487112 -1.850708  2.980849  \n",
       "241  1.499963  0.604298  1.752477  \n",
       "399  1.487232 -1.061781  0.022650  \n",
       "108  0.333368 -0.715371  3.512070  \n",
       "99   0.331610  0.092329 -1.760664  \n",
       "142  1.485751 -0.019506  1.566873  \n",
       "55   2.418606 -1.230789 -1.112152  \n",
       "207  2.026073 -1.859028 -0.385787  "
      ]
     },
     "execution_count": 32,
     "metadata": {},
     "output_type": "execute_result"
    }
   ],
   "source": [
    "moods.sample(10)"
   ]
  },
  {
   "cell_type": "markdown",
   "id": "8d9ea136-ada7-4ef1-aa13-f02fa7b48571",
   "metadata": {},
   "source": [
    "- We could check by any mood the scores to see if matches our expectations"
   ]
  },
  {
   "cell_type": "code",
   "execution_count": 33,
   "id": "d1925c23-ad1c-4f00-a9a7-7ba9b636450b",
   "metadata": {
    "tags": []
   },
   "outputs": [
    {
     "data": {
      "text/html": [
       "<div>\n",
       "<style scoped>\n",
       "    .dataframe tbody tr th:only-of-type {\n",
       "        vertical-align: middle;\n",
       "    }\n",
       "\n",
       "    .dataframe tbody tr th {\n",
       "        vertical-align: top;\n",
       "    }\n",
       "\n",
       "    .dataframe thead th {\n",
       "        text-align: right;\n",
       "    }\n",
       "</style>\n",
       "<table border=\"1\" class=\"dataframe\">\n",
       "  <thead>\n",
       "    <tr style=\"text-align: right;\">\n",
       "      <th></th>\n",
       "      <th>text</th>\n",
       "      <th>score</th>\n",
       "      <th>summary</th>\n",
       "      <th>anger</th>\n",
       "      <th>disgust</th>\n",
       "      <th>fear</th>\n",
       "      <th>joy</th>\n",
       "      <th>neutral</th>\n",
       "      <th>sadness</th>\n",
       "      <th>surprise</th>\n",
       "    </tr>\n",
       "  </thead>\n",
       "  <tbody>\n",
       "    <tr>\n",
       "      <th>381</th>\n",
       "      <td>These condiments are overpriced and terrible. ...</td>\n",
       "      <td>1</td>\n",
       "      <td>Waste of money</td>\n",
       "      <td>-0.262590</td>\n",
       "      <td>5.499695</td>\n",
       "      <td>-0.003901</td>\n",
       "      <td>-2.401927</td>\n",
       "      <td>-0.254048</td>\n",
       "      <td>-1.021307</td>\n",
       "      <td>-1.968623</td>\n",
       "    </tr>\n",
       "    <tr>\n",
       "      <th>331</th>\n",
       "      <td>I received the items in a timely manner. Upon ...</td>\n",
       "      <td>1</td>\n",
       "      <td>AWFUL</td>\n",
       "      <td>-0.687006</td>\n",
       "      <td>4.987614</td>\n",
       "      <td>0.374303</td>\n",
       "      <td>-2.430762</td>\n",
       "      <td>0.029355</td>\n",
       "      <td>-0.955534</td>\n",
       "      <td>-1.779397</td>\n",
       "    </tr>\n",
       "    <tr>\n",
       "      <th>417</th>\n",
       "      <td>A vile, miserable pancake. I put these in fron...</td>\n",
       "      <td>1</td>\n",
       "      <td>Look elsewhere for your whole grains</td>\n",
       "      <td>0.615442</td>\n",
       "      <td>4.972391</td>\n",
       "      <td>-0.583695</td>\n",
       "      <td>-3.103032</td>\n",
       "      <td>-0.284214</td>\n",
       "      <td>0.260172</td>\n",
       "      <td>-2.393000</td>\n",
       "    </tr>\n",
       "    <tr>\n",
       "      <th>304</th>\n",
       "      <td>I've been buying and drinking this for over a ...</td>\n",
       "      <td>5</td>\n",
       "      <td>Flavor getting better, energy is great</td>\n",
       "      <td>0.605325</td>\n",
       "      <td>4.624406</td>\n",
       "      <td>-0.463171</td>\n",
       "      <td>-2.369261</td>\n",
       "      <td>0.805042</td>\n",
       "      <td>-0.668411</td>\n",
       "      <td>-2.554887</td>\n",
       "    </tr>\n",
       "    <tr>\n",
       "      <th>287</th>\n",
       "      <td>This is a fantastic product, and I wish it was...</td>\n",
       "      <td>5</td>\n",
       "      <td>Great Natural Energy</td>\n",
       "      <td>0.036035</td>\n",
       "      <td>4.552674</td>\n",
       "      <td>-1.242773</td>\n",
       "      <td>-2.350554</td>\n",
       "      <td>1.334091</td>\n",
       "      <td>-0.759355</td>\n",
       "      <td>-1.520486</td>\n",
       "    </tr>\n",
       "    <tr>\n",
       "      <th>403</th>\n",
       "      <td>Perhaps the worst bottle of wine I've ever had...</td>\n",
       "      <td>1</td>\n",
       "      <td>disappointing</td>\n",
       "      <td>1.000024</td>\n",
       "      <td>4.470349</td>\n",
       "      <td>-1.857004</td>\n",
       "      <td>-2.982049</td>\n",
       "      <td>0.754558</td>\n",
       "      <td>-0.248102</td>\n",
       "      <td>-1.624182</td>\n",
       "    </tr>\n",
       "    <tr>\n",
       "      <th>50</th>\n",
       "      <td>This oatmeal is not good. Its mushy, soft, I d...</td>\n",
       "      <td>1</td>\n",
       "      <td>Don't like it</td>\n",
       "      <td>-0.023801</td>\n",
       "      <td>4.146682</td>\n",
       "      <td>-0.898578</td>\n",
       "      <td>-2.745185</td>\n",
       "      <td>0.496348</td>\n",
       "      <td>0.908718</td>\n",
       "      <td>-2.409679</td>\n",
       "    </tr>\n",
       "    <tr>\n",
       "      <th>443</th>\n",
       "      <td>What I like about them:&lt;br /&gt;1) Very thick chi...</td>\n",
       "      <td>5</td>\n",
       "      <td>Excellent!</td>\n",
       "      <td>-0.715740</td>\n",
       "      <td>4.131074</td>\n",
       "      <td>-1.180460</td>\n",
       "      <td>-1.037085</td>\n",
       "      <td>1.259618</td>\n",
       "      <td>-0.398042</td>\n",
       "      <td>-1.858697</td>\n",
       "    </tr>\n",
       "    <tr>\n",
       "      <th>361</th>\n",
       "      <td>A very bitter tasting coffee even when enhance...</td>\n",
       "      <td>1</td>\n",
       "      <td>Bitter</td>\n",
       "      <td>1.230007</td>\n",
       "      <td>3.982002</td>\n",
       "      <td>-1.370082</td>\n",
       "      <td>-3.386118</td>\n",
       "      <td>-0.008981</td>\n",
       "      <td>-0.076624</td>\n",
       "      <td>-1.002714</td>\n",
       "    </tr>\n",
       "    <tr>\n",
       "      <th>233</th>\n",
       "      <td>Terrible! Artificial lemon taste, like Pledge ...</td>\n",
       "      <td>1</td>\n",
       "      <td>Furniture Polish Taste</td>\n",
       "      <td>-0.120771</td>\n",
       "      <td>3.836015</td>\n",
       "      <td>1.153751</td>\n",
       "      <td>-3.064065</td>\n",
       "      <td>0.202418</td>\n",
       "      <td>-1.011037</td>\n",
       "      <td>-1.546696</td>\n",
       "    </tr>\n",
       "    <tr>\n",
       "      <th>67</th>\n",
       "      <td>I purchased the Mango flavor, and to me it doe...</td>\n",
       "      <td>2</td>\n",
       "      <td>Taste is not so good.</td>\n",
       "      <td>-1.207087</td>\n",
       "      <td>3.825616</td>\n",
       "      <td>0.287135</td>\n",
       "      <td>-2.669737</td>\n",
       "      <td>0.454713</td>\n",
       "      <td>0.275132</td>\n",
       "      <td>-1.679080</td>\n",
       "    </tr>\n",
       "    <tr>\n",
       "      <th>402</th>\n",
       "      <td>Just awful!  I thought food was supposed to ta...</td>\n",
       "      <td>1</td>\n",
       "      <td>Awful</td>\n",
       "      <td>-0.507654</td>\n",
       "      <td>3.734439</td>\n",
       "      <td>0.368392</td>\n",
       "      <td>-2.218447</td>\n",
       "      <td>-0.855986</td>\n",
       "      <td>-0.129522</td>\n",
       "      <td>-0.434211</td>\n",
       "    </tr>\n",
       "    <tr>\n",
       "      <th>445</th>\n",
       "      <td>I usually love Kettle Chips, and love salt &amp; v...</td>\n",
       "      <td>3</td>\n",
       "      <td>Heavy on the Vinegar</td>\n",
       "      <td>0.423715</td>\n",
       "      <td>3.658909</td>\n",
       "      <td>-2.100307</td>\n",
       "      <td>-1.822996</td>\n",
       "      <td>1.343253</td>\n",
       "      <td>-0.187382</td>\n",
       "      <td>-1.473547</td>\n",
       "    </tr>\n",
       "    <tr>\n",
       "      <th>99</th>\n",
       "      <td>I fed this to my Golden Retriever and he hated...</td>\n",
       "      <td>1</td>\n",
       "      <td>Bad</td>\n",
       "      <td>0.109067</td>\n",
       "      <td>3.615082</td>\n",
       "      <td>0.045176</td>\n",
       "      <td>-2.452966</td>\n",
       "      <td>0.331610</td>\n",
       "      <td>0.092329</td>\n",
       "      <td>-1.760664</td>\n",
       "    </tr>\n",
       "    <tr>\n",
       "      <th>131</th>\n",
       "      <td>I must be a bit of a wuss, because this soup t...</td>\n",
       "      <td>2</td>\n",
       "      <td>Not for me</td>\n",
       "      <td>-0.472615</td>\n",
       "      <td>3.586065</td>\n",
       "      <td>-1.550535</td>\n",
       "      <td>-0.882403</td>\n",
       "      <td>2.372919</td>\n",
       "      <td>-0.882042</td>\n",
       "      <td>-1.651030</td>\n",
       "    </tr>\n",
       "  </tbody>\n",
       "</table>\n",
       "</div>"
      ],
      "text/plain": [
       "                                                  text  score  \\\n",
       "381  These condiments are overpriced and terrible. ...      1   \n",
       "331  I received the items in a timely manner. Upon ...      1   \n",
       "417  A vile, miserable pancake. I put these in fron...      1   \n",
       "304  I've been buying and drinking this for over a ...      5   \n",
       "287  This is a fantastic product, and I wish it was...      5   \n",
       "403  Perhaps the worst bottle of wine I've ever had...      1   \n",
       "50   This oatmeal is not good. Its mushy, soft, I d...      1   \n",
       "443  What I like about them:<br />1) Very thick chi...      5   \n",
       "361  A very bitter tasting coffee even when enhance...      1   \n",
       "233  Terrible! Artificial lemon taste, like Pledge ...      1   \n",
       "67   I purchased the Mango flavor, and to me it doe...      2   \n",
       "402  Just awful!  I thought food was supposed to ta...      1   \n",
       "445  I usually love Kettle Chips, and love salt & v...      3   \n",
       "99   I fed this to my Golden Retriever and he hated...      1   \n",
       "131  I must be a bit of a wuss, because this soup t...      2   \n",
       "\n",
       "                                    summary     anger   disgust      fear  \\\n",
       "381                          Waste of money -0.262590  5.499695 -0.003901   \n",
       "331                                   AWFUL -0.687006  4.987614  0.374303   \n",
       "417    Look elsewhere for your whole grains  0.615442  4.972391 -0.583695   \n",
       "304  Flavor getting better, energy is great  0.605325  4.624406 -0.463171   \n",
       "287                    Great Natural Energy  0.036035  4.552674 -1.242773   \n",
       "403                           disappointing  1.000024  4.470349 -1.857004   \n",
       "50                            Don't like it -0.023801  4.146682 -0.898578   \n",
       "443                              Excellent! -0.715740  4.131074 -1.180460   \n",
       "361                                  Bitter  1.230007  3.982002 -1.370082   \n",
       "233                  Furniture Polish Taste -0.120771  3.836015  1.153751   \n",
       "67                    Taste is not so good. -1.207087  3.825616  0.287135   \n",
       "402                                   Awful -0.507654  3.734439  0.368392   \n",
       "445                    Heavy on the Vinegar  0.423715  3.658909 -2.100307   \n",
       "99                                      Bad  0.109067  3.615082  0.045176   \n",
       "131                              Not for me -0.472615  3.586065 -1.550535   \n",
       "\n",
       "          joy   neutral   sadness  surprise  \n",
       "381 -2.401927 -0.254048 -1.021307 -1.968623  \n",
       "331 -2.430762  0.029355 -0.955534 -1.779397  \n",
       "417 -3.103032 -0.284214  0.260172 -2.393000  \n",
       "304 -2.369261  0.805042 -0.668411 -2.554887  \n",
       "287 -2.350554  1.334091 -0.759355 -1.520486  \n",
       "403 -2.982049  0.754558 -0.248102 -1.624182  \n",
       "50  -2.745185  0.496348  0.908718 -2.409679  \n",
       "443 -1.037085  1.259618 -0.398042 -1.858697  \n",
       "361 -3.386118 -0.008981 -0.076624 -1.002714  \n",
       "233 -3.064065  0.202418 -1.011037 -1.546696  \n",
       "67  -2.669737  0.454713  0.275132 -1.679080  \n",
       "402 -2.218447 -0.855986 -0.129522 -0.434211  \n",
       "445 -1.822996  1.343253 -0.187382 -1.473547  \n",
       "99  -2.452966  0.331610  0.092329 -1.760664  \n",
       "131 -0.882403  2.372919 -0.882042 -1.651030  "
      ]
     },
     "execution_count": 33,
     "metadata": {},
     "output_type": "execute_result"
    }
   ],
   "source": [
    "moods.sort_values(by=\"disgust\", ascending=False).head(15)"
   ]
  },
  {
   "cell_type": "markdown",
   "id": "160713f2-0bd7-465c-89d5-9bb67bc7de37",
   "metadata": {
    "tags": []
   },
   "source": [
    "- As we did it before with "
   ]
  },
  {
   "cell_type": "code",
   "execution_count": 34,
   "id": "b843374c-8f46-465b-b723-39199e493362",
   "metadata": {
    "tags": []
   },
   "outputs": [
    {
     "data": {
      "text/plain": [
       "<Axes: xlabel='score', ylabel='disgust'>"
      ]
     },
     "execution_count": 34,
     "metadata": {},
     "output_type": "execute_result"
    },
    {
     "data": {
      "image/png": "[encoded data removed]",
      "text/plain": [
       "<Figure size 640x480 with 1 Axes>"
      ]
     },
     "metadata": {},
     "output_type": "display_data"
    }
   ],
   "source": [
    "sns.barplot(data=moods, x=\"score\", y=\"disgust\")"
   ]
  },
  {
   "cell_type": "code",
   "execution_count": null,
   "id": "47887cbd-de81-45e4-a75b-4be95bdffe89",
   "metadata": {},
   "outputs": [],
   "source": []
  }
 ],
 "metadata": {
  "kernelspec": {
   "display_name": "Python 3 (ipykernel)",
   "language": "python",
   "name": "python3"
  },
  "language_info": {
   "codemirror_mode": {
    "name": "ipython",
    "version": 3
   },
   "file_extension": ".py",
   "mimetype": "text/x-python",
   "name": "python",
   "nbconvert_exporter": "python",
   "pygments_lexer": "ipython3",
   "version": "3.11.5"
  }
 },
 "nbformat": 4,
 "nbformat_minor": 5
}
